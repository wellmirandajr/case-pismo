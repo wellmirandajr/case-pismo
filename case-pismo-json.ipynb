{
 "cells": [
  {
   "cell_type": "code",
   "execution_count": 0,
   "metadata": {
    "application/vnd.databricks.v1+cell": {
     "cellMetadata": {
      "byteLimit": 2048000,
      "rowLimit": 10000
     },
     "inputWidgets": {},
     "nuid": "a4efb512-6601-43d6-b7d1-19be2aec397d",
     "showTitle": false,
     "title": ""
    }
   },
   "outputs": [],
   "source": [
    "from pyspark.sql.functions import col, explode_outer\n",
    "from pyspark.sql.functions import struct\n"
   ]
  },
  {
   "cell_type": "code",
   "execution_count": 0,
   "metadata": {
    "application/vnd.databricks.v1+cell": {
     "cellMetadata": {
      "byteLimit": 2048000,
      "rowLimit": 10000
     },
     "inputWidgets": {},
     "nuid": "7791fa43-a77c-4e33-90f3-07f1cfd71669",
     "showTitle": false,
     "title": ""
    }
   },
   "outputs": [],
   "source": [
    "df = spark.read.json('s3://data-pismo/extraction/*.json',multiLine=True)"
   ]
  },
  {
   "cell_type": "code",
   "execution_count": 0,
   "metadata": {
    "application/vnd.databricks.v1+cell": {
     "cellMetadata": {
      "byteLimit": 2048000,
      "rowLimit": 10000
     },
     "inputWidgets": {},
     "nuid": "9fe58550-ad15-453e-a59d-9a903a087328",
     "showTitle": false,
     "title": ""
    }
   },
   "outputs": [
    {
     "output_type": "stream",
     "name": "stdout",
     "output_type": "stream",
     "text": [
      "Out[93]: [('end_date', 'string'),\n ('privacy', 'string'),\n ('quotes',\n  'struct<2023-09-18:struct<USDBRL:double,USDCLP:double,USDEUR:double>,2023-09-19:struct<USDBRL:double,USDCLP:double,USDEUR:double>,2023-09-20:struct<USDBRL:double,USDCLP:double,USDEUR:double>,2023-09-21:struct<USDBRL:double,USDCLP:double,USDEUR:double>,2023-09-22:struct<USDBRL:double,USDCLP:double,USDEUR:double>,2023-09-23:struct<USDBRL:double,USDCLP:double,USDEUR:double>,2023-09-24:struct<USDBRL:double,USDCLP:double,USDEUR:double>,2023-09-25:struct<USDBRL:double,USDCLP:double,USDEUR:double>,2023-09-26:struct<USDBRL:double,USDCLP:double,USDEUR:double>,2023-09-27:struct<USDBRL:double,USDCLP:double,USDEUR:double>,2023-09-28:struct<USDBRL:double,USDCLP:double,USDEUR:double>,2023-09-29:struct<USDBRL:double,USDCLP:double,USDEUR:double>,2023-09-30:struct<USDBRL:double,USDCLP:double,USDEUR:double>,2023-10-01:struct<USDBRL:double,USDCLP:double,USDEUR:double>,2023-10-02:struct<USDBRL:double,USDCLP:double,USDEUR:double>,2023-10-03:struct<USDBRL:double,USDCLP:double,USDEUR:double>,2023-10-04:struct<USDBRL:double,USDCLP:double,USDEUR:double>,2023-10-05:struct<USDBRL:double,USDCLP:double,USDEUR:double>,2023-10-06:struct<USDBRL:double,USDCLP:double,USDEUR:double>,2023-10-07:struct<USDBRL:double,USDCLP:double,USDEUR:double>,2023-10-08:struct<USDBRL:double,USDCLP:double,USDEUR:double>,2023-10-09:struct<USDBRL:double,USDCLP:double,USDEUR:double>,2023-10-10:struct<USDBRL:double,USDCLP:double,USDEUR:double>,2023-10-11:struct<USDBRL:double,USDCLP:double,USDEUR:double>,2023-10-12:struct<USDBRL:double,USDCLP:double,USDEUR:double>,2023-10-13:struct<USDBRL:double,USDCLP:double,USDEUR:double>,2023-10-14:struct<USDBRL:double,USDCLP:double,USDEUR:double>,2023-10-15:struct<USDBRL:double,USDCLP:double,USDEUR:double>,2023-10-16:struct<USDBRL:double,USDCLP:double,USDEUR:double>,2023-10-17:struct<USDBRL:double,USDCLP:double,USDEUR:double>,2023-10-18:struct<USDBRL:double,USDCLP:double,USDEUR:double>>'),\n ('source', 'string'),\n ('start_date', 'string'),\n ('success', 'boolean'),\n ('terms', 'string'),\n ('timeframe', 'boolean')]"
     ]
    }
   ],
   "source": [
    "df.dtypes"
   ]
  },
  {
   "cell_type": "code",
   "execution_count": 0,
   "metadata": {
    "application/vnd.databricks.v1+cell": {
     "cellMetadata": {
      "byteLimit": 2048000,
      "rowLimit": 10000
     },
     "inputWidgets": {},
     "nuid": "69baed13-4e5b-4a40-a07e-b342a49a6b64",
     "showTitle": false,
     "title": ""
    }
   },
   "outputs": [
    {
     "output_type": "stream",
     "name": "stdout",
     "output_type": "stream",
     "text": [
      "+----------+--------------------+--------------------+------+----------+-------+--------------------+---------+\n|  end_date|             privacy|              quotes|source|start_date|success|               terms|timeframe|\n+----------+--------------------+--------------------+------+----------+-------+--------------------+---------+\n|2023-10-18|https://currencyl...|{{4.855203, 886.6...|   USD|2023-09-18|   true|https://currencyl...|     true|\n+----------+--------------------+--------------------+------+----------+-------+--------------------+---------+\n\n"
     ]
    }
   ],
   "source": [
    "df.show()"
   ]
  },
  {
   "cell_type": "code",
   "execution_count": 0,
   "metadata": {
    "application/vnd.databricks.v1+cell": {
     "cellMetadata": {
      "byteLimit": 2048000,
      "rowLimit": 10000
     },
     "inputWidgets": {},
     "nuid": "aa8e82e1-06af-4e08-8777-2d7c8dbae18f",
     "showTitle": false,
     "title": ""
    }
   },
   "outputs": [],
   "source": [
    "df_treatment = df.unpivot('source', ['quotes.*'],  'var',  'value')"
   ]
  },
  {
   "cell_type": "code",
   "execution_count": 0,
   "metadata": {
    "application/vnd.databricks.v1+cell": {
     "cellMetadata": {
      "byteLimit": 2048000,
      "rowLimit": 10000
     },
     "inputWidgets": {},
     "nuid": "655469aa-30eb-4946-a4c0-284582416ea4",
     "showTitle": false,
     "title": ""
    }
   },
   "outputs": [
    {
     "output_type": "stream",
     "name": "stdout",
     "output_type": "stream",
     "text": [
      "+------+----------+--------------------+\n|source|       var|               value|\n+------+----------+--------------------+\n|   USD|2023-09-18|{4.855203, 886.61...|\n|   USD|2023-09-19|{4.867301, 884.35...|\n|   USD|2023-09-20|{4.880297, 882.59...|\n|   USD|2023-09-21|{4.9364, 889.7198...|\n|   USD|2023-09-22|{4.935904, 894.20...|\n|   USD|2023-09-23|{4.919286, 885.28...|\n|   USD|2023-09-24|{4.935404, 894.84...|\n|   USD|2023-09-25|{4.969802, 903.40...|\n|   USD|2023-09-26|{4.987696, 904.09...|\n|   USD|2023-09-27|{5.043697, 909.12...|\n|   USD|2023-09-28|{5.034296, 905.39...|\n|   USD|2023-09-29|{5.032904, 891.15...|\n|   USD|2023-09-30|{5.044254, 901.48...|\n|   USD|2023-10-01|{5.044298, 891.15...|\n|   USD|2023-10-02|{5.06303, 908.580...|\n|   USD|2023-10-03|{5.167798, 917.59...|\n|   USD|2023-10-04|{5.156103, 915.33...|\n|   USD|2023-10-05|{5.1665, 914.4001...|\n|   USD|2023-10-06|{5.150104, 909.69...|\n|   USD|2023-10-07|{5.143881, 909.69...|\n+------+----------+--------------------+\nonly showing top 20 rows\n\n"
     ]
    }
   ],
   "source": [
    "df_treatment.show()"
   ]
  },
  {
   "cell_type": "code",
   "execution_count": 0,
   "metadata": {
    "application/vnd.databricks.v1+cell": {
     "cellMetadata": {
      "byteLimit": 2048000,
      "rowLimit": 10000
     },
     "inputWidgets": {},
     "nuid": "7fa36787-2c01-4651-9d1f-71b51ba8e787",
     "showTitle": false,
     "title": ""
    }
   },
   "outputs": [],
   "source": [
    "df_final = df_treatment.select('source', 'var', 'value.*')"
   ]
  },
  {
   "cell_type": "code",
   "execution_count": 0,
   "metadata": {
    "application/vnd.databricks.v1+cell": {
     "cellMetadata": {
      "byteLimit": 2048000,
      "rowLimit": 10000
     },
     "inputWidgets": {},
     "nuid": "0cfea1b0-14e3-4617-98b9-6c692150be35",
     "showTitle": false,
     "title": ""
    }
   },
   "outputs": [
    {
     "output_type": "stream",
     "name": "stdout",
     "output_type": "stream",
     "text": [
      "+------+----------+--------+----------+--------+\n|source|       var|  USDBRL|    USDCLP|  USDEUR|\n+------+----------+--------+----------+--------+\n|   USD|2023-09-18|4.855203|886.619723|0.935255|\n|   USD|2023-09-19|4.867301|884.350185| 0.93619|\n|   USD|2023-09-20|4.880297|882.598241| 0.93885|\n|   USD|2023-09-21|  4.9364|889.719802| 0.93799|\n|   USD|2023-09-22|4.935904|894.203912| 0.93705|\n|   USD|2023-09-23|4.919286|885.285989| 0.93705|\n|   USD|2023-09-24|4.935404|894.840397| 0.93915|\n|   USD|2023-09-25|4.969802|903.409698|0.944165|\n|   USD|2023-09-26|4.987696|904.098478|0.946145|\n|   USD|2023-09-27|5.043697|909.129666| 0.95194|\n|   USD|2023-09-28|5.034296|905.399662| 0.94677|\n|   USD|2023-09-29|5.032904|891.150396|0.944604|\n|   USD|2023-09-30|5.044254|901.487744|0.944604|\n|   USD|2023-10-01|5.044298|891.150207| 0.94665|\n|   USD|2023-10-02| 5.06303|908.580165| 0.95417|\n|   USD|2023-10-03|5.167798|917.599964| 0.95505|\n|   USD|2023-10-04|5.156103|915.330083| 0.95178|\n|   USD|2023-10-05|  5.1665|914.400119| 0.94821|\n|   USD|2023-10-06|5.150104|909.691111| 0.94335|\n|   USD|2023-10-07|5.143881|909.691111| 0.94335|\n+------+----------+--------+----------+--------+\nonly showing top 20 rows\n\n"
     ]
    }
   ],
   "source": [
    "df_final.show()"
   ]
  },
  {
   "cell_type": "code",
   "execution_count": 0,
   "metadata": {
    "application/vnd.databricks.v1+cell": {
     "cellMetadata": {
      "byteLimit": 2048000,
      "rowLimit": 10000
     },
     "inputWidgets": {},
     "nuid": "51177625-c7c0-4273-9ec8-199adc4e0002",
     "showTitle": false,
     "title": ""
    }
   },
   "outputs": [],
   "source": [
    "df_final.write.mode('overwrite').format('csv').save(\"s3://data-pismo/cleaned/teste_pismo.csv\", header=True)"
   ]
  },
  {
   "cell_type": "code",
   "execution_count": 0,
   "metadata": {
    "application/vnd.databricks.v1+cell": {
     "cellMetadata": {
      "byteLimit": 2048000,
      "rowLimit": 10000
     },
     "inputWidgets": {},
     "nuid": "58027e6c-3f55-4d7c-a523-322377668b27",
     "showTitle": false,
     "title": ""
    }
   },
   "outputs": [],
   "source": []
  }
 ],
 "metadata": {
  "application/vnd.databricks.v1+notebook": {
   "dashboards": [],
   "language": "python",
   "notebookMetadata": {
    "pythonIndentUnit": 4
   },
   "notebookName": "case-pismo-json",
   "widgets": {}
  }
 },
 "nbformat": 4,
 "nbformat_minor": 0
}
